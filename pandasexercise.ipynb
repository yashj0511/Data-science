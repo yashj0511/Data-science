{
  "nbformat": 4,
  "nbformat_minor": 0,
  "metadata": {
    "colab": {
      "name": "pandasexercise.ipynb",
      "provenance": [],
      "collapsed_sections": [],
      "authorship_tag": "ABX9TyOItgNH2UOT5XdNyD0rCSHF",
      "include_colab_link": true
    },
    "kernelspec": {
      "name": "python3",
      "display_name": "Python 3"
    },
    "language_info": {
      "name": "python"
    }
  },
  "cells": [
    {
      "cell_type": "markdown",
      "metadata": {
        "id": "view-in-github",
        "colab_type": "text"
      },
      "source": [
        "<a href=\"https://colab.research.google.com/github/yashj0511/Data-science/blob/main/pandasexercise.ipynb\" target=\"_parent\"><img src=\"https://colab.research.google.com/assets/colab-badge.svg\" alt=\"Open In Colab\"/></a>"
      ]
    },
    {
      "cell_type": "code",
      "metadata": {
        "colab": {
          "base_uri": "https://localhost:8080/"
        },
        "id": "x2nvSwfzjrLp",
        "outputId": "99453d6b-5390-439b-aed0-ddc502ba767b"
      },
      "source": [
        "#1\n",
        "# import pandas as pd \n",
        "import pandas as pd  \n",
        "      \n",
        "# List1  \n",
        "lst = [['Geek', 25], ['is', 30], \n",
        "       ['for', 26], ['Geeksforgeeks', 22]] \n",
        "\n",
        "# creating df object with columns specified    \n",
        "df = pd.DataFrame(lst, columns =['Tag', 'number']) \n",
        "print(df)\n",
        "\n",
        "\n",
        "\n",
        "\n"
      ],
      "execution_count": null,
      "outputs": [
        {
          "output_type": "stream",
          "text": [
            "             Tag  number\n",
            "0           Geek      25\n",
            "1             is      30\n",
            "2            for      26\n",
            "3  Geeksforgeeks      22\n"
          ],
          "name": "stdout"
        }
      ]
    },
    {
      "cell_type": "code",
      "metadata": {
        "colab": {
          "base_uri": "https://localhost:8080/"
        },
        "id": "kBjkjOX4kIyY",
        "outputId": "a221bb21-8cff-428e-c936-1024e35f3d4b"
      },
      "source": [
        "#2\n",
        "# Python code demonstrate creating\n",
        "# DataFrame from dict narray / lists\n",
        "# By default addresses.\n",
        "\n",
        "import pandas as pd\n",
        "\n",
        "# initialise data of lists.\n",
        "data = {'Category':['Array', 'Stack', 'Queue'],\n",
        "\t\t'Marks':[20, 21, 19]}\n",
        "\n",
        "# Create DataFrame\n",
        "df = pd.DataFrame(data)\n",
        "\n",
        "# Print the output.\n",
        "print(df )\n",
        "\n"
      ],
      "execution_count": null,
      "outputs": [
        {
          "output_type": "stream",
          "text": [
            "  Category  Marks\n",
            "0    Array     20\n",
            "1    Stack     21\n",
            "2    Queue     19\n"
          ],
          "name": "stdout"
        }
      ]
    },
    {
      "cell_type": "code",
      "metadata": {
        "colab": {
          "base_uri": "https://localhost:8080/"
        },
        "id": "SKnYcgfJmeq7",
        "outputId": "7bd16eb2-a5cd-41d2-9f07-4cc6dc108838"
      },
      "source": [
        "#3\n",
        "\n",
        "# Import pandas library\n",
        "import pandas as pd\n",
        "\n",
        "# initialize list of lists\n",
        "data = [['Geeks', 10], ['for', 15], ['geeks', 20]]\n",
        "\n",
        "# Create the pandas DataFrame\n",
        "df = pd.DataFrame(data, columns = ['Name', 'Age'])\n",
        "\n",
        "# print dataframe.\n",
        "print(df )\n"
      ],
      "execution_count": null,
      "outputs": [
        {
          "output_type": "stream",
          "text": [
            "    Name  Age\n",
            "0  Geeks   10\n",
            "1    for   15\n",
            "2  geeks   20\n"
          ],
          "name": "stdout"
        }
      ]
    },
    {
      "cell_type": "code",
      "metadata": {
        "colab": {
          "base_uri": "https://localhost:8080/"
        },
        "id": "7YgjDZ-wm45O",
        "outputId": "122e4111-e279-4783-c2a6-35b676a20fb4"
      },
      "source": [
        "#4\n",
        "# import pandas to use pandas DataFrame\n",
        "import pandas as pd\n",
        "\n",
        "# data in the form of list of tuples\n",
        "data = [('Peter', 18, 7),\n",
        "\t\t('Riff', 15, 6),\n",
        "\t\t('John', 17, 8),\n",
        "\t\t('Michel', 18, 7),\n",
        "\t\t('Sheli', 17, 5) ]\n",
        "\n",
        "\n",
        "# create DataFrame using data\n",
        "df = pd.DataFrame(data, columns =['Name', 'Age', 'Score'])\n",
        "\n",
        "print(df)\n"
      ],
      "execution_count": null,
      "outputs": [
        {
          "output_type": "stream",
          "text": [
            "     Name  Age  Score\n",
            "0   Peter   18      7\n",
            "1    Riff   15      6\n",
            "2    John   17      8\n",
            "3  Michel   18      7\n",
            "4   Sheli   17      5\n"
          ],
          "name": "stdout"
        }
      ]
    },
    {
      "cell_type": "code",
      "metadata": {
        "colab": {
          "base_uri": "https://localhost:8080/",
          "height": 110
        },
        "id": "r0u9laznnCl8",
        "outputId": "f87e02dd-8967-4916-bdf9-4e9b5a78c1c9"
      },
      "source": [
        "#5.1\n",
        "# Python code demonstrate how to create\n",
        "# Pandas DataFrame by lists of dicts.\n",
        "import pandas as pd\n",
        "\t\n",
        "# Initialise data to lists.\n",
        "data = [{'Geeks': 'dataframe', 'For': 'using', 'geeks': 'list'},\n",
        "\t\t{'Geeks':10, 'For': 20, 'geeks': 30}]\n",
        "\t\n",
        "# Creates DataFrame.\n",
        "df = pd.DataFrame(data)\n",
        "\t\n",
        "# Print the data\n",
        "df\n",
        "\n",
        "\n"
      ],
      "execution_count": null,
      "outputs": [
        {
          "output_type": "execute_result",
          "data": {
            "text/html": [
              "<div>\n",
              "<style scoped>\n",
              "    .dataframe tbody tr th:only-of-type {\n",
              "        vertical-align: middle;\n",
              "    }\n",
              "\n",
              "    .dataframe tbody tr th {\n",
              "        vertical-align: top;\n",
              "    }\n",
              "\n",
              "    .dataframe thead th {\n",
              "        text-align: right;\n",
              "    }\n",
              "</style>\n",
              "<table border=\"1\" class=\"dataframe\">\n",
              "  <thead>\n",
              "    <tr style=\"text-align: right;\">\n",
              "      <th></th>\n",
              "      <th>Geeks</th>\n",
              "      <th>For</th>\n",
              "      <th>geeks</th>\n",
              "    </tr>\n",
              "  </thead>\n",
              "  <tbody>\n",
              "    <tr>\n",
              "      <th>0</th>\n",
              "      <td>dataframe</td>\n",
              "      <td>using</td>\n",
              "      <td>list</td>\n",
              "    </tr>\n",
              "    <tr>\n",
              "      <th>1</th>\n",
              "      <td>10</td>\n",
              "      <td>20</td>\n",
              "      <td>30</td>\n",
              "    </tr>\n",
              "  </tbody>\n",
              "</table>\n",
              "</div>"
            ],
            "text/plain": [
              "       Geeks    For geeks\n",
              "0  dataframe  using  list\n",
              "1         10     20    30"
            ]
          },
          "metadata": {},
          "execution_count": 5
        }
      ]
    },
    {
      "cell_type": "code",
      "metadata": {
        "id": "MsH6pw38nTZV"
      },
      "source": [
        "#5.2\n",
        "# Python code demonstrate how to create\n",
        "# Pandas DataFrame by lists of dicts.\n",
        "import pandas as pd\n",
        "\t\n",
        "# Initialise data to lists.\n",
        "data = [{'Geeks': 'dataframe', 'For': 'using', 'geeks': 'list'},\n",
        "\t\t{'Geeks':10, 'For': 20, 'geeks': 30}]\n",
        "\t\n",
        "# Creates DataFrame.\n",
        "df = pd.DataFrame(data, index =['ind1', 'ind2'])\n",
        "\t\n",
        "# Print the data\n",
        "df\n"
      ],
      "execution_count": null,
      "outputs": []
    },
    {
      "cell_type": "code",
      "metadata": {
        "colab": {
          "base_uri": "https://localhost:8080/"
        },
        "id": "dLyWyNCyndE_",
        "outputId": "b8cd73a8-198f-4d1b-cb41-f72b120328f6"
      },
      "source": [
        "#5.3\n",
        "# Python code demonstrate how to create\n",
        "# Pandas DataFrame by lists of dicts.\n",
        "import pandas as pd\n",
        "\t\n",
        "# Initialise data to lists.\n",
        "data = [{'Geeks': 'dataframe', 'For': 'using', 'geeks': 'list'},\n",
        "\t\t{'Geeks':10, 'For': 20, 'geeks': 30}]\n",
        "\t\n",
        "# With two column indices, values same\n",
        "# as dictionary keys\n",
        "df1 = pd.DataFrame(data, index =['ind1', 'ind2'],\n",
        "\t\t\t\t\tcolumns =['Geeks', 'For'])\n",
        "\t\n",
        "# With two column indices with\n",
        "# one index with other name\n",
        "df2 = pd.DataFrame(data, index =['indx', 'indy'])\n",
        "\t\n",
        "# print for first data frame\n",
        "print (df1, \"\\n\")\n",
        "\t\n",
        "# Print for second DataFrame.\n",
        "print (df2)\n"
      ],
      "execution_count": null,
      "outputs": [
        {
          "output_type": "stream",
          "text": [
            "          Geeks    For\n",
            "ind1  dataframe  using\n",
            "ind2         10     20 \n",
            "\n",
            "          Geeks    For geeks\n",
            "indx  dataframe  using  list\n",
            "indy         10     20    30\n"
          ],
          "name": "stdout"
        }
      ]
    }
  ]
}